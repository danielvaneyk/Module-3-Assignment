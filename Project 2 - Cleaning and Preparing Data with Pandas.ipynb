{
 "cells": [
  {
   "cell_type": "markdown",
   "id": "310ff801-1269-43c8-9d97-656136b7943d",
   "metadata": {},
   "source": [
    "<!-- To demonstrate data cleaning and preparation skills using Pandas in Python, let's consider a raw dataset and perform a series of data cleaning and preparation tasks. The following notebook will cover: -->\r\n",
    "<!-- \r\n",
    "Importing the dataset.\r\n",
    "Initial exploration to understand the structure and contents.\r\n",
    "Handling missing values.\r\n",
    "Filtering the data based on specific criteria.\r\n",
    "Data type conversions.\r\n",
    "I will simulate a dataset with a variety of data quality issues to show how to address them. Below is the Jupyter Notebook code that walks through these --> tasks:"
   ]
  },
  {
   "cell_type": "markdown",
   "id": "28a63018-8687-4ffe-a9a1-9844c10e7941",
   "metadata": {},
   "source": [
    "<!-- To demonstrate data cleaning and preparation skills using Pandas in Python, let's consider a raw dataset and perform a series of data cleaning and preparation tasks. The following notebook will cover: -->\r\n",
    "<!-- \r\n",
    "Importing the dataset.\r\n",
    "Initial exploration to understand the structure and contents.\r\n",
    "Handling missing values.\r\n",
    "Filtering the data based on specific criteria.\r\n",
    "Data type conversions.\r\n",
    "I will simulate a dataset with a variety of data quality issues to show how to address them. Below is the Jupyter Notebook code that walks through these --> tasks:"
   ]
  },
  {
   "cell_type": "code",
   "execution_count": null,
   "id": "4afae254-ff32-43f5-9ef1-7bc69b82fdee",
   "metadata": {},
   "outputs": [],
   "source": []
  },
  {
   "cell_type": "code",
   "execution_count": null,
   "id": "e59187b8-aa1c-446f-ac62-ef14b9a1f6f7",
   "metadata": {},
   "outputs": [],
   "source": [
    "# Importing the necessary libraries\n",
    "import pandas as pd\n",
    "import numpy as np\n",
    "\n",
    "# Create a simulated raw dataset with various issues\n",
    "data = {\n",
    "    'ID': [1, 2, 3, 4, 5, 6, 7, 8, 9, 10],\n",
    "    'Name': ['Alice', 'Bob', 'Charlie', 'David', np.nan, 'Frank', 'Grace', 'Hannah', 'Ian', 'Jake'],\n",
    "    'Age': [25, 32, np.nan, 28, 21, 35, 29, np.nan, 30, 27],\n",
    "    'City': ['New York', 'Los Angeles', 'Chicago', np.nan, 'Houston', 'Phoenix', 'Philadelphia', 'San Antonio', 'San Diego', 'Dallas'],\n",
    "    'Salary': [50000, 55000, 60000, 65000, 70000, 75000, np.nan, 85000, 90000, 95000],\n",
    "}\n",
    "\n",
    "df = pd.DataFrame(data)\n",
    "\n",
    "# 1. Initial exploration\n",
    "print(\"Initial DataFrame:\")\n",
    "print(df)\n",
    "\n",
    "# 2. Handling missing values\n",
    "# Replacing missing 'Name' with 'Unknown'\n",
    "df['Name'].fillna('Unknown', inplace=True)\n",
    "\n",
    "# Replacing missing 'City' with 'Not Specified'\n",
    "df['City'].fillna('Not Specified', inplace=True)\n",
    "\n",
    "# Handling missing 'Age' with mean value\n",
    "mean_age = df['Age'].mean()\n",
    "df['Age'].fillna(mean_age, inplace=True)\n",
    "\n",
    "# Handling missing 'Salary' with median value\n",
    "median_salary = df['Salary'].median()\n",
    "df['Salary'].fillna(median_salary, inplace=True)\n",
    "\n",
    "# 3. Filtering data based on specific criteria\n",
    "# Filter rows where 'Age' is greater than 30\n",
    "df_filtered = df[df['Age'] > 30]\n",
    "\n",
    "# 4. Data type conversions\n",
    "# Converting 'Salary' to integer\n",
    "df_filtered['Salary'] = df_filtered['Salary'].astype(int)\n",
    "\n",
    "# Converting 'Age' to integer\n",
    "df_filtered['Age'] = df_filtered['Age'].astype(int)\n",
    "\n",
    "print(\"\\nDataFrame after cleaning and filtering:\")\n",
    "print(df_filtered)\n"
   ]
  },
  {
   "cell_type": "code",
   "execution_count": null,
   "id": "a31d75ea-6782-48bd-8ddc-49e13adf0bd9",
   "metadata": {},
   "outputs": [],
   "source": []
  },
  {
   "cell_type": "code",
   "execution_count": 34,
   "id": "f9eac5d8-556f-4424-9a02-24d0c85b446c",
   "metadata": {},
   "outputs": [],
   "source": [
    "# Changes made to avoid the warning:\n",
    "\n",
    "# Using .copy(): This explicitly creates a new DataFrame object when filtering, ensuring you're working with a separate instance instead of a view on the original DataFrame. This helps avoid issues with \"SettingWithCopyWarning.\"\n",
    "# Using .loc[]: When modifying specific columns or rows, use .loc[row_indexer, col_indexer] to clarify that you're modifying a specific part of the DataFrame. This avoids ambiguities that could lead to warnings.\n",
    "# With these adjustments, the code is less likely to trigger \"SettingWithCopyWarning,\" providing a smoother data cleaning process."
   ]
  }
 ],
 "metadata": {
  "kernelspec": {
   "display_name": "anaconda-panel-2023.05-py310",
   "language": "python",
   "name": "conda-env-anaconda-panel-2023.05-py310-py"
  },
  "language_info": {
   "codemirror_mode": {
    "name": "ipython",
    "version": 3
   },
   "file_extension": ".py",
   "mimetype": "text/x-python",
   "name": "python",
   "nbconvert_exporter": "python",
   "pygments_lexer": "ipython3",
   "version": "3.11.5"
  }
 },
 "nbformat": 4,
 "nbformat_minor": 5
}
