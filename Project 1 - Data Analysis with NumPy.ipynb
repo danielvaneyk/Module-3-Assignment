{
 "cells": [
  {
   "cell_type": "markdown",
   "id": "cc9ada21-1754-4eeb-9f67-5c3fb2c4550b",
   "metadata": {},
   "source": [
    "<!-- \n",
    "Creating a weather app that retrieves weather information from the WeatherAPI service requires sending HTTP requests to fetch real-time weather data. Given the WeatherAPI endpoint, let's create a Jupyter Notebook project that fetches and displays the weather information for a specified city. Here's a code structure that uses the provided WeatherAPI key and retrieves basic weather details like temperature, condition, humidity, wind speed, and other information -->."
   ]
  },
  {
   "cell_type": "markdown",
   "id": "f327fe9e-d1bb-4bf7-887a-6aec32e5c98f",
   "metadata": {},
   "source": [
    "# Weather App with WeatherAPI.com\r\n",
    "\r\n",
    "This Jupyter Notebook demonstrates how to create a weather app that fetches real-time weather data using the WeatherAPI. We will use Python to send HTTP requests to the API, then parse and display the weather data for a specified city.\r\n",
    "\r\n",
    "```python\r\n",
    "# Import the necessary libraries\r\n",
    "import requests  # For sending HTTP requests\r\n",
    "import json  # For parsing JSON data\r\n"
   ]
  },
  {
   "cell_type": "markdown",
   "id": "7597035e-2914-4e61-af03-afdec6a8465a",
   "metadata": {},
   "source": [
    "<!-- Set Constants --><!-- \n",
    "Set the base URL for WeatherAPI and the API key for authentication. We'll also define a function to construct the complete API request URL -->."
   ]
  },
  {
   "cell_type": "code",
   "execution_count": 51,
   "id": "40e05690-64c6-4246-b461-41cb2b2b650d",
   "metadata": {},
   "outputs": [],
   "source": [
    "# WeatherAPI base URL for current weather data\n",
    "BASE_URL = \"http://api.weatherapi.com/v1/current.json\"\n",
    "\n",
    "# Your WeatherAPI key\n",
    "API_KEY = \"fc230321be3a42b790f210256241202\"\n"
   ]
  },
  {
   "cell_type": "markdown",
   "id": "87c2fdbc-cab8-4eb8-9f71-6db6f80d6029",
   "metadata": {},
   "source": [
    "Function to Fetch Weather Data\r\n",
    "This function sends an HTTP GET request to fetch the weather data for a specified city from WeatherAPI and returns the parsed JSON data."
   ]
  },
  {
   "cell_type": "code",
   "execution_count": 53,
   "id": "8c047e99-8bf1-4735-af79-cbdf5c45e600",
   "metadata": {},
   "outputs": [],
   "source": [
    "def fetch_weather(city_name):\n",
    "    \"\"\"\n",
    "    Fetches current weather data for the given city from WeatherAPI.\n",
    "\n",
    "    Args:\n",
    "        city_name (str): The name of the city to fetch weather data for.\n",
    "\n",
    "    Returns:\n",
    "        dict: A dictionary containing the weather information.\n",
    "    \"\"\"\n",
    "    # Build the request URL with the city name and API key\n",
    "    request_url = f\"{BASE_URL}?key={API_KEY}&q={city_name}&aqi=no\"  # Set 'aqi=no' to ignore air quality data\n",
    "    \n",
    "    # Send the HTTP GET request\n",
    "    response = request.get(request_url)\n",
    "    \n",
    "    if response.status_code == 200:  # Check if the request was successful\n",
    "        return json.loads(response.text)  # Parse and return the JSON data\n",
    "    else:\n",
    "        return None  # Return None if the request failed\n"
   ]
  },
  {
   "cell_type": "markdown",
   "id": "98cdebc2-1818-44e0-9f1d-c0f2aa1240a8",
   "metadata": {},
   "source": [
    "Function to Display Weather Information\r\n",
    "This function takes the weather data and displays it in a readable format, including temperature, weather condition, humidity, and wind speed."
   ]
  },
  {
   "cell_type": "code",
   "execution_count": 55,
   "id": "4b411075-1d19-4f5f-8be9-d6f30073d378",
   "metadata": {},
   "outputs": [],
   "source": [
    "def display_weather(weather_data):\n",
    "    \"\"\"\n",
    "    Displays the current weather information in a readable format.\n",
    "\n",
    "    Args:\n",
    "        weather_data (dict): The weather information returned by the API.\n",
    "    \"\"\"\n",
    "    if weather_data:\n",
    "        # Extract relevant information from the API response\n",
    "        location = weather_data[\"location\"][\"name\"]  # City name\n",
    "        temperature_celsius = weather_data[\"current\"][\"temp_c\"]  # Temperature in Celsius\n",
    "        condition_text = weather_data[\"current\"][\"condition\"][\"text\"]  # Weather condition description\n",
    "        humidity = weather_data[\"current\"][\"humidity\"]  # Humidity percentage\n",
    "        wind_speed_kph = weather_data[\"current\"][\"wind_kph\"]  # Wind speed in km/h\n",
    "        \n",
    "        # Display the weather information\n",
    "        print(f\"Weather in {location}:\")\n",
    "        print(f\"Temperature: {temperature_celsius}°C\")\n",
    "        print(f\"Condition: {condition_text}\")\n",
    "        print(f\"Humidity: {humidity}%\")\n",
    "        print(f\"Wind Speed: {wind_speed_kph} km/h\")\n",
    "    else:\n",
    "        print(\"Unable to fetch weather data. Please check the city name and try again.\")\n"
   ]
  },
  {
   "cell_type": "markdown",
   "id": "487d75e8-15a9-4036-8adf-ddee1f219626",
   "metadata": {},
   "source": [
    "Fetch and Display Weather Information\r\n",
    "Let's fetch the weather information for a specified city and display it using the functions defined earlier."
   ]
  },
  {
   "cell_type": "markdown",
   "id": "981d86d8-ecb0-4872-855a-7285fc03c27c",
   "metadata": {},
   "source": [
    "Conclusion\r\n",
    "In this Jupyter Notebook project, we created a simple weather app that uses WeatherAPI to fetch real-time weather data for a specified city. By entering a city name, the app retrieves temperature, weather condition, humidity, and wind speed, and displays the information in a clear and readable format. This approach can be extended to include additional features like multi-day forecasts, air quality data, or other weather-related metrics."
   ]
  },
  {
   "cell_type": "markdown",
   "id": "fa08536f-7391-478c-99cc-833e16765299",
   "metadata": {},
   "source": [
    "Replace `\"YOUR_WEATHERAPI_KEY_HERE\"` with your actual WeatherAPI key to ensure proper functionality. Ensure that your API key has the correct permissions to access the desired weather data. This code structure should work well with WeatherAPI, allowing you to fetch real-time weather data and display it in a simple, user-friendly format."
   ]
  },
  {
   "cell_type": "code",
   "execution_count": null,
   "id": "7ec140b9-e5bb-4387-9bd4-ae05228ec6f7",
   "metadata": {},
   "outputs": [],
   "source": []
  }
 ],
 "metadata": {
  "kernelspec": {
   "display_name": "anaconda-panel-2023.05-py310",
   "language": "python",
   "name": "conda-env-anaconda-panel-2023.05-py310-py"
  },
  "language_info": {
   "codemirror_mode": {
    "name": "ipython",
    "version": 3
   },
   "file_extension": ".py",
   "mimetype": "text/x-python",
   "name": "python",
   "nbconvert_exporter": "python",
   "pygments_lexer": "ipython3",
   "version": "3.11.5"
  }
 },
 "nbformat": 4,
 "nbformat_minor": 5
}
